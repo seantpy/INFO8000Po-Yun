{
 "cells": [
  {
   "cell_type": "code",
   "execution_count": 25,
   "metadata": {},
   "outputs": [],
   "source": [
    "import sqlite3 as sql\n",
    "import pandas as pd\n"
   ]
  },
  {
   "cell_type": "code",
   "execution_count": 26,
   "metadata": {},
   "outputs": [
    {
     "name": "stdout",
     "output_type": "stream",
     "text": [
      "this is executed\n"
     ]
    },
    {
     "ename": "OperationalError",
     "evalue": "database is locked",
     "output_type": "error",
     "traceback": [
      "\u001b[0;31m---------------------------------------------------------------------------\u001b[0m",
      "\u001b[0;31mOperationalError\u001b[0m                          Traceback (most recent call last)",
      "\u001b[0;32m<ipython-input-26-7c62e08eccc1>\u001b[0m in \u001b[0;36m<module>\u001b[0;34m\u001b[0m\n\u001b[1;32m      3\u001b[0m     conn.execute (\"\"\"\n\u001b[1;32m      4\u001b[0m     \u001b[0mdrop\u001b[0m \u001b[0mtable\u001b[0m \u001b[0;32mif\u001b[0m \u001b[0mexists\u001b[0m \u001b[0mmanuf\u001b[0m\u001b[0;34m\u001b[0m\u001b[0;34m\u001b[0m\u001b[0m\n\u001b[0;32m----> 5\u001b[0;31m     \"\"\")\n\u001b[0m\u001b[1;32m      6\u001b[0m \u001b[0;34m\u001b[0m\u001b[0m\n\u001b[1;32m      7\u001b[0m     conn.execute (\"\"\"\n",
      "\u001b[0;31mOperationalError\u001b[0m: database is locked"
     ]
    }
   ],
   "source": [
    "conn = sql.connect(\"tempdb3.db\")\n",
    "try:\n",
    "    conn.execute (\"\"\"\n",
    "    drop table if exists manuf\n",
    "    \"\"\")\n",
    "\n",
    "    conn.execute (\"\"\"\n",
    "    CREATE TABLE manuf (ID INT, NAME TEXT, PRIMARY KEY ('ID'));\n",
    "    \"\"\")\n",
    "    \n",
    "    conn.executemany (\"\"\"\n",
    "    Insert into manuf values (?,?)\"\"\",[ (1, 'Merk'),(2, 'Vtech'),(3, 'MSD'),(4, 'Biopharm'),(5, 'Zoetis')])\n",
    "    \n",
    "    cursor = conn.execute(\"select * from manuf\")\n",
    "    df = pd.DataFrame(cursor.fetchall(),columns = ['ManufacturorID','NAME'])\n",
    "    \n",
    "    print(df)\n",
    "    \n",
    "finally:\n",
    "    print(\"this is executed\")\n",
    "         \n",
    "    "
   ]
  },
  {
   "cell_type": "code",
   "execution_count": null,
   "metadata": {},
   "outputs": [],
   "source": []
  },
  {
   "cell_type": "code",
   "execution_count": null,
   "metadata": {},
   "outputs": [],
   "source": []
  },
  {
   "cell_type": "code",
   "execution_count": null,
   "metadata": {},
   "outputs": [],
   "source": []
  },
  {
   "cell_type": "code",
   "execution_count": null,
   "metadata": {},
   "outputs": [],
   "source": []
  }
 ],
 "metadata": {
  "kernelspec": {
   "display_name": "Python 3",
   "language": "python",
   "name": "python3"
  },
  "language_info": {
   "codemirror_mode": {
    "name": "ipython",
    "version": 3
   },
   "file_extension": ".py",
   "mimetype": "text/x-python",
   "name": "python",
   "nbconvert_exporter": "python",
   "pygments_lexer": "ipython3",
   "version": "3.7.4"
  }
 },
 "nbformat": 4,
 "nbformat_minor": 4
}
