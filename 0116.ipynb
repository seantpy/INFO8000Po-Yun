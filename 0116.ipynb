{
 "cells": [
  {
   "cell_type": "code",
   "execution_count": 1,
   "metadata": {},
   "outputs": [],
   "source": [
    "import sqlite3 as sql"
   ]
  },
  {
   "cell_type": "code",
   "execution_count": 1,
   "metadata": {},
   "outputs": [
    {
     "ename": "SyntaxError",
     "evalue": "invalid syntax (<ipython-input-1-684d41e13140>, line 23)",
     "output_type": "error",
     "traceback": [
      "\u001b[0;36m  File \u001b[0;32m\"<ipython-input-1-684d41e13140>\"\u001b[0;36m, line \u001b[0;32m23\u001b[0m\n\u001b[0;31m    conn.commit();\u001b[0m\n\u001b[0m       ^\u001b[0m\n\u001b[0;31mSyntaxError\u001b[0m\u001b[0;31m:\u001b[0m invalid syntax\n"
     ]
    }
   ],
   "source": [
    "conn = sql.connect (\"tempdb.db\")\n",
    "\n",
    "try:\n",
    "    conn.execute(\"\"\"\n",
    "    DROP TABLE IF EXISTS person\n",
    "    \"\"\")\n",
    "    conn.execute(\"\"\"\n",
    "    DROP TABLE IF EXISTS phone\n",
    "    \"\"\")\n",
    "    conn.execute(\"\"\"\n",
    "    CREATE TABLE person (id INT, name TEXT, PRIMARY KEY ('id'))\n",
    "    \"\"\")\n",
    "    \n",
    "    conn.executemany(\"\"\"\n",
    "    Insert INTO person VALUES (?,?),[(1,'Kyle'),(2,'Jogn')]\n",
    "    \"\"\")\n",
    "    \n",
    "    cursor = con.execute(\"select = from person\")\n",
    "    \n",
    "    df = pd.datafram(cursor.fetchall().columns = ['id','Name']\n",
    "                                                  \n",
    "    \n",
    "    conn.commit();\n",
    "except sqlite3.error as e:\n",
    "    print (\"there was error:\" + str(e))\n",
    "\n",
    "\n",
    "finally:\n",
    "    print (\"this executed\")\n",
    "                 conn.close()\n",
    "                     "
   ]
  },
  {
   "cell_type": "code",
   "execution_count": null,
   "metadata": {},
   "outputs": [],
   "source": []
  }
 ],
 "metadata": {
  "kernelspec": {
   "display_name": "Python 3",
   "language": "python",
   "name": "python3"
  },
  "language_info": {
   "codemirror_mode": {
    "name": "ipython",
    "version": 3
   },
   "file_extension": ".py",
   "mimetype": "text/x-python",
   "name": "python",
   "nbconvert_exporter": "python",
   "pygments_lexer": "ipython3",
   "version": "3.7.4"
  }
 },
 "nbformat": 4,
 "nbformat_minor": 4
}
