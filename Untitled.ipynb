{
 "cells": [
  {
   "cell_type": "code",
   "execution_count": 56,
   "metadata": {},
   "outputs": [],
   "source": [
    "import sqlite3 as sql\n",
    "import pandas as pd"
   ]
  },
  {
   "cell_type": "code",
   "execution_count": null,
   "metadata": {},
   "outputs": [],
   "source": [
    "conn = sql.connect(\"tempdb2.db\")\n",
    "try:\n",
    "    conn.execute (\"\"\"\n",
    "    drop table if exists manuf\n",
    "    \"\"\")\n",
    "\n",
    "    conn.execute (\"\"\"\n",
    "    CREATE TABLE manuf (ID INT, NAME TEXT, PRIMARY KEY ('ID'));\n",
    "    \"\"\")\n",
    "    \n",
    "    conn.executemany (\"\"\"\n",
    "    Insert into manuf values (?,?)\"\"\",[ (1, 'Merk'),(2, 'Vtech'),(3, 'MSD'),(4, 'Biopharm'),(5, 'Zoetis')])\n",
    "    \n",
    "\n",
    "    cursor = conn.execute(\"select * from manuf\")\n",
    "    df = pd.DataFrame(cursor.fetchall(),columns = ['ManufacturorID','NAME']) \n",
    "    print(df)\n",
    " \n",
    "    conn.commit()\n",
    "\n",
    "        \n",
    "finally:\n",
    "    print (\"this executed\")\n",
    "    conn.close()\n",
    "    \n",
    "\n",
    "\n",
    "    "
   ]
  },
  {
   "cell_type": "code",
   "execution_count": null,
   "metadata": {},
   "outputs": [],
   "source": []
  },
  {
   "cell_type": "code",
   "execution_count": null,
   "metadata": {},
   "outputs": [],
   "source": []
  },
  {
   "cell_type": "code",
   "execution_count": null,
   "metadata": {},
   "outputs": [],
   "source": []
  },
  {
   "cell_type": "code",
   "execution_count": null,
   "metadata": {},
   "outputs": [],
   "source": []
  },
  {
   "cell_type": "code",
   "execution_count": null,
   "metadata": {},
   "outputs": [],
   "source": []
  },
  {
   "cell_type": "code",
   "execution_count": null,
   "metadata": {},
   "outputs": [],
   "source": []
  },
  {
   "cell_type": "code",
   "execution_count": null,
   "metadata": {},
   "outputs": [],
   "source": []
  },
  {
   "cell_type": "code",
   "execution_count": null,
   "metadata": {},
   "outputs": [],
   "source": []
  }
 ],
 "metadata": {
  "kernelspec": {
   "display_name": "Python 3",
   "language": "python",
   "name": "python3"
  },
  "language_info": {
   "codemirror_mode": {
    "name": "ipython",
    "version": 3
   },
   "file_extension": ".py",
   "mimetype": "text/x-python",
   "name": "python",
   "nbconvert_exporter": "python",
   "pygments_lexer": "ipython3",
   "version": "3.7.4"
  }
 },
 "nbformat": 4,
 "nbformat_minor": 4
}
