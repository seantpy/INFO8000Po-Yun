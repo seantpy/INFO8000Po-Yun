{
 "cells": [
  {
   "cell_type": "code",
   "execution_count": 1,
   "metadata": {},
   "outputs": [],
   "source": [
    "from flask import Flask, request, jsonify, json, escape\n",
    "\n"
   ]
  },
  {
   "cell_type": "code",
   "execution_count": 4,
   "metadata": {},
   "outputs": [],
   "source": [
    "\n",
    "\n",
    "app = Flask(__name__)\n",
    "@app.route ('/')\n",
    "def index():\n",
    "    return \"HOME PAGE\"\n",
    "\n",
    "\n",
    "@app.route(\"/drug\", methods=['GET'])\n",
    "def fun():\n",
    "    return jsonify (vaccine)\n",
    "\n",
    "@app.route('/postdrug', methods=['GET','POST'])\n",
    "def fun2():\n",
    "    id = request.args.get(\"id\")\n",
    "    return jsonify ('id =' + id)\n",
    " \n",
    "\n",
    "@app.route('/postbrand', methods=['GET','POST'])\n",
    "def fun3():\n",
    "    type = request.args.get(\"type\")\n",
    "    return jsonify ('type =' + type)\n",
    "\n"
   ]
  },
  {
   "cell_type": "code",
   "execution_count": null,
   "metadata": {},
   "outputs": [],
   "source": []
  }
 ],
 "metadata": {
  "kernelspec": {
   "display_name": "Python 3",
   "language": "python",
   "name": "python3"
  },
  "language_info": {
   "codemirror_mode": {
    "name": "ipython",
    "version": 3
   },
   "file_extension": ".py",
   "mimetype": "text/x-python",
   "name": "python",
   "nbconvert_exporter": "python",
   "pygments_lexer": "ipython3",
   "version": "3.7.4"
  }
 },
 "nbformat": 4,
 "nbformat_minor": 4
}
