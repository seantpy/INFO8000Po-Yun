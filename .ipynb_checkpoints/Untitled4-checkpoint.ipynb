{
 "cells": [
  {
   "cell_type": "code",
   "execution_count": 1,
   "metadata": {},
   "outputs": [],
   "source": [
    "import sqlite3 as sql\n",
    "import pandas as pd\n",
    "\n",
    "\n",
    "\n"
   ]
  },
  {
   "cell_type": "code",
   "execution_count": 3,
   "metadata": {},
   "outputs": [
    {
     "ename": "SyntaxError",
     "evalue": "unexpected EOF while parsing (<ipython-input-3-72b79faa776e>, line 21)",
     "output_type": "error",
     "traceback": [
      "\u001b[0;36m  File \u001b[0;32m\"<ipython-input-3-72b79faa776e>\"\u001b[0;36m, line \u001b[0;32m21\u001b[0m\n\u001b[0;31m    \u001b[0m\n\u001b[0m    ^\u001b[0m\n\u001b[0;31mSyntaxError\u001b[0m\u001b[0;31m:\u001b[0m unexpected EOF while parsing\n"
     ]
    }
   ],
   "source": [
    "conn = sql.connect(\"tempdb4.db\")\n",
    "try:\n",
    "    conn.execute (\"\"\"\n",
    "    drop table if exists manuf\n",
    "    \"\"\")\n",
    "\n",
    "    conn.execute (\"\"\"\n",
    "    CREATE TABLE manuf (ID INT, NAME TEXT, PRIMARY KEY ('ID'));\n",
    "    \"\"\")\n",
    "    \n",
    "    conn.executemany (\"\"\"\n",
    "    Insert into manuf values (?,?)\"\"\",[ (1, 'Merk'),(2, 'Vtech'),(3, 'MSD'),(4, 'Biopharm'),(5, 'Zoetis')])\n",
    "    \n",
    "\n",
    "    cursor = conn.execute(\"select * from manuf\")\n",
    "    df = pd.DataFrame(cursor.fetchall(),columns = ['ManufacturorID','NAME'])\n",
    "    \n",
    "    print(df)\n",
    "      \n",
    "    conn. commit\n",
    "    "
   ]
  },
  {
   "cell_type": "code",
   "execution_count": null,
   "metadata": {},
   "outputs": [],
   "source": []
  }
 ],
 "metadata": {
  "kernelspec": {
   "display_name": "Python 3",
   "language": "python",
   "name": "python3"
  },
  "language_info": {
   "codemirror_mode": {
    "name": "ipython",
    "version": 3
   },
   "file_extension": ".py",
   "mimetype": "text/x-python",
   "name": "python",
   "nbconvert_exporter": "python",
   "pygments_lexer": "ipython3",
   "version": "3.7.4"
  }
 },
 "nbformat": 4,
 "nbformat_minor": 4
}
