{
 "cells": [
  {
   "cell_type": "code",
   "execution_count": 9,
   "metadata": {},
   "outputs": [],
   "source": [
    "import json\n",
    "import requests\n",
    "\n"
   ]
  },
  {
   "cell_type": "code",
   "execution_count": 50,
   "metadata": {},
   "outputs": [
    {
     "name": "stdout",
     "output_type": "stream",
     "text": [
      "https://api.openweathermap.org/data/2.5/weather\n",
      "https://api.openweathermap.org/data/2.5/forecast\n"
     ]
    }
   ],
   "source": [
    "key = \"8f2980aea5484e2d60be6e013e5c0fda\"\n",
    "domain = \"api.openweathermap.org\"\n",
    "protocol = \"https://\"\n",
    "version = \"/data/2.5/\"\n",
    "resource1 = \"weather\"\n",
    "resource2 = \"forecast\"\n",
    "params = {\"zip\":\"30605,us\", \"appid\":key,\"units\":\"imperial\"}\n",
    "weather_url = protocol+domain+version+resource1\n",
    "forcast_url =protocol+domain+version+resource2\n",
    "print(weather_url)\n",
    "print (forcast_url)"
   ]
  },
  {
   "cell_type": "code",
   "execution_count": 51,
   "metadata": {},
   "outputs": [],
   "source": [
    "resp = requests.get(forcast_url,params)"
   ]
  },
  {
   "cell_type": "code",
   "execution_count": 54,
   "metadata": {},
   "outputs": [
    {
     "data": {
      "text/plain": [
       "[66.7,\n",
       " 65.93,\n",
       " 62.01,\n",
       " 63.68,\n",
       " 63.99,\n",
       " 65.95,\n",
       " 56.59,\n",
       " 58.21,\n",
       " 60.94,\n",
       " 54.46,\n",
       " 52.02,\n",
       " 45.97,\n",
       " 43.05,\n",
       " 41.04,\n",
       " 38.16,\n",
       " 45.73,\n",
       " 55.08,\n",
       " 53.22,\n",
       " 41.04,\n",
       " 33.3,\n",
       " 32,\n",
       " 32.81,\n",
       " 30.13,\n",
       " 37.26,\n",
       " 47.39,\n",
       " 50.52,\n",
       " 40.96,\n",
       " 38.84,\n",
       " 37.2,\n",
       " 37.36,\n",
       " 38.5,\n",
       " 47.21,\n",
       " 58.35,\n",
       " 56.73,\n",
       " 47.5,\n",
       " 43.32,\n",
       " 42.19,\n",
       " 40.93,\n",
       " 39.65,\n",
       " 50.67]"
      ]
     },
     "execution_count": 54,
     "metadata": {},
     "output_type": "execute_result"
    }
   ],
   "source": [
    "data = resp.json()\n",
    "forcast = data[\"list\"]\n",
    "times = []\n",
    "temps =[]\n",
    "for day in forcast:\n",
    "    times.append(day['dt'])\n",
    "    temps.append(day['main']['temp'])\n",
    "temps"
   ]
  },
  {
   "cell_type": "code",
   "execution_count": null,
   "metadata": {},
   "outputs": [],
   "source": []
  },
  {
   "cell_type": "code",
   "execution_count": null,
   "metadata": {},
   "outputs": [],
   "source": []
  }
 ],
 "metadata": {
  "kernelspec": {
   "display_name": "Python 3",
   "language": "python",
   "name": "python3"
  },
  "language_info": {
   "codemirror_mode": {
    "name": "ipython",
    "version": 3
   },
   "file_extension": ".py",
   "mimetype": "text/x-python",
   "name": "python",
   "nbconvert_exporter": "python",
   "pygments_lexer": "ipython3",
   "version": "3.7.4"
  }
 },
 "nbformat": 4,
 "nbformat_minor": 4
}
