{
 "cells": [
  {
   "cell_type": "code",
   "execution_count": 2,
   "metadata": {},
   "outputs": [],
   "source": [
    "import sqlite3 as sql\n",
    "import pandas as pd\n"
   ]
  },
  {
   "cell_type": "code",
   "execution_count": 5,
   "metadata": {},
   "outputs": [
    {
     "name": "stdout",
     "output_type": "stream",
     "text": [
      "Empty DataFrame\n",
      "Columns: [GenotypeNumber, Genotype, rep, exp, DAI3, DAI5, DAI7, DAI9]\n",
      "Index: []\n",
      "this executed\n"
     ]
    }
   ],
   "source": [
    "conn = sql.connect(\"GHdata.db\")\n",
    "try:\n",
    "    conn.execute (\"\"\"\n",
    "    drop table if exists Greenhousedata\n",
    "    \"\"\")\n",
    "    conn.execute (\"\"\"\n",
    "    CREATE TABLE Greenhousedata (GenotypeNumber,Genotype,rep,exp, DAI3,DAI5,DAI7,DAI9);\n",
    "    \"\"\")\n",
    "    \n",
    "    #conn.executemany (\"\"\"\n",
    "    #Insert into Greenhousedata values (?,?,?,?,?,?,?,?)\"\"\",[ (1,1, '222',1,1,2,3,3),(2,2, '343',2,3,1,2,3)])\n",
    "\n",
    "    cursor = conn.execute(\"select * from Greenhousedata\")\n",
    "    df = pd.DataFrame(cursor.fetchall(),columns = ['GenotypeNumber','Genotype','rep','exp','DAI3','DAI5','DAI7','DAI9']) \n",
    "    print(df)\n",
    "    \n",
    "    #forecast table\n",
    "    #conn.execute (\"\"\"\n",
    "    #drop table if exists forecast\n",
    "    #\"\"\")\n",
    "    #conn.execute (\"\"\"\n",
    "    #CREATE TABLE forecast (City,time,weather,temp);\n",
    "    #\"\"\")\n",
    "    #cursor = conn.execute(\"select * from forecast\")\n",
    "    ##df2 = pd.DataFrame(cursor.fetchall(),columns = ['City','time','weather','temp']) \n",
    "    #print(df2)\n",
    "    \n",
    "    #cursor = conn.execute(\"select * from fielddata\")\n",
    "    #df3 = pd.DataFrame(cursor.fetchall(),columns = ['Field_Genotype','Lesion']) \n",
    "    #print(df3)\n",
    "    \n",
    "    \n",
    "    \n",
    "    \n",
    "    \n",
    "    conn.commit()\n",
    "\n",
    "    \n",
    "    \n",
    "    \n",
    "        \n",
    "finally:\n",
    "    print (\"this executed\")\n",
    "    conn.close()\n",
    "    \n",
    "\n",
    "\n",
    "    "
   ]
  },
  {
   "cell_type": "code",
   "execution_count": 99,
   "metadata": {},
   "outputs": [
    {
     "name": "stdout",
     "output_type": "stream",
     "text": [
      "602\n"
     ]
    }
   ],
   "source": [
    "\n"
   ]
  },
  {
   "cell_type": "code",
   "execution_count": 134,
   "metadata": {},
   "outputs": [
    {
     "name": "stdout",
     "output_type": "stream",
     "text": [
      "     City                 time weather   temp\n",
      "0  athens  2020-04-22 00:00:00  Clouds  12.08\n",
      "1  athens  2020-04-23 00:00:00  Clouds  11.31\n",
      "2  athens  2020-04-24 00:00:00  Clouds  11.79\n",
      "3  athens  2020-04-25 00:00:00   Clear  12.44\n",
      "4  athens  2020-04-26 00:00:00   Clear  14.54\n",
      "0.6\n",
      "Clouds\n",
      "Clouds\n",
      "440\n",
      "28\n"
     ]
    }
   ],
   "source": [
    "con = sql.connect(\"GHdata.db\")        \n",
    "cur = con.cursor()  \n",
    "cur.execute(\"select * from fielddata\")\n",
    "    \n",
    "data_field = pd.DataFrame(cur.fetchall(),columns = ['Field_Genotype','Lesion'])\n",
    "genotype = data_field.iloc[0,0]\n",
    "lesion = data_field.iloc[0,1]\n",
    "    \n",
    "cur.execute(\"select * from forecast\")\n",
    "data_temp = pd.DataFrame(cur.fetchall(),columns = ['City','time','weather','temp'])\n",
    "d1weather = data_temp.iloc[0,2]\n",
    "d2weather = data_temp.iloc[1,2]\n",
    "d3weather = data_temp.iloc[2,2]\n",
    "d4weather = data_temp.iloc[3,2]\n",
    "d5weather = data_temp.iloc[4,2]           \n",
    "d1temp = data_temp.iloc[0,3]\n",
    "d2temp = data_temp.iloc[1,3]\n",
    "d3temp = data_temp.iloc[2,3]\n",
    "d4temp = data_temp.iloc[3,3]\n",
    "d5temp = data_temp.iloc[4,3]\n",
    "#d1temp = data_field.iloc[0,3]\n",
    "d1temp=\"28\"\n",
    "print(data_temp)\n",
    "print(lesion)\n",
    "print(d1weather)\n",
    "print(d2weather)\n",
    "print(genotype)\n",
    "print(d1temp)"
   ]
  },
  {
   "cell_type": "code",
   "execution_count": 132,
   "metadata": {},
   "outputs": [
    {
     "name": "stdout",
     "output_type": "stream",
     "text": [
      "4 chemical\n"
     ]
    }
   ],
   "source": [
    "if lesion > \"0.2\":\n",
    "    if d1weather == \"Rain\":\n",
    "        print( \"1chemical\")\n",
    "    else:\n",
    "        if d1temp > \"24\":\n",
    "            if genotype == \"628\":\n",
    "                print(\"3 chemical\")\n",
    "            elif genotype ==\"660\":\n",
    "                print(\"4 chemical\")\n",
    "            elif genotype == \"668\":\n",
    "                print(\"5 chemical\")\n",
    "            elif genotype == \"708\":\n",
    "                print(\"6 chemical\")\n",
    "            else:\n",
    "                print(\"7 non chemical\")\n",
    "        else:\n",
    "            print (\"8 non chemical\")\n",
    "else:\n",
    "    print(\"5non chemical\")"
   ]
  },
  {
   "cell_type": "code",
   "execution_count": null,
   "metadata": {},
   "outputs": [],
   "source": []
  },
  {
   "cell_type": "code",
   "execution_count": 95,
   "metadata": {},
   "outputs": [
    {
     "data": {
      "text/plain": [
       "'Clouds'"
      ]
     },
     "execution_count": 95,
     "metadata": {},
     "output_type": "execute_result"
    }
   ],
   "source": [
    "d2weather"
   ]
  },
  {
   "cell_type": "code",
   "execution_count": 48,
   "metadata": {},
   "outputs": [
    {
     "data": {
      "text/plain": [
       "'Clouds'"
      ]
     },
     "execution_count": 48,
     "metadata": {},
     "output_type": "execute_result"
    }
   ],
   "source": [
    "d1weather\n"
   ]
  },
  {
   "cell_type": "code",
   "execution_count": null,
   "metadata": {},
   "outputs": [],
   "source": []
  },
  {
   "cell_type": "code",
   "execution_count": 4,
   "metadata": {},
   "outputs": [
    {
     "ename": "NameError",
     "evalue": "name 'sns' is not defined",
     "output_type": "error",
     "traceback": [
      "\u001b[0;31m---------------------------------------------------------------------------\u001b[0m",
      "\u001b[0;31mNameError\u001b[0m                                 Traceback (most recent call last)",
      "\u001b[0;32m<ipython-input-4-79c7c22f43f8>\u001b[0m in \u001b[0;36m<module>\u001b[0;34m\u001b[0m\n\u001b[1;32m     14\u001b[0m \u001b[0mdfh\u001b[0m \u001b[0;34m=\u001b[0m \u001b[0mdfh\u001b[0m\u001b[0;34m.\u001b[0m\u001b[0mset_index\u001b[0m\u001b[0;34m(\u001b[0m\u001b[0;34m[\u001b[0m\u001b[0;34m'Genotype'\u001b[0m\u001b[0;34m]\u001b[0m\u001b[0;34m)\u001b[0m\u001b[0;34m\u001b[0m\u001b[0;34m\u001b[0m\u001b[0m\n\u001b[1;32m     15\u001b[0m \u001b[0;34m\u001b[0m\u001b[0m\n\u001b[0;32m---> 16\u001b[0;31m \u001b[0msns\u001b[0m\u001b[0;34m.\u001b[0m\u001b[0mset\u001b[0m\u001b[0;34m(\u001b[0m\u001b[0;34m)\u001b[0m\u001b[0;34m\u001b[0m\u001b[0;34m\u001b[0m\u001b[0m\n\u001b[0m\u001b[1;32m     17\u001b[0m \u001b[0mfig\u001b[0m\u001b[0;34m,\u001b[0m \u001b[0max\u001b[0m \u001b[0;34m=\u001b[0m \u001b[0mplt\u001b[0m\u001b[0;34m.\u001b[0m\u001b[0msubplots\u001b[0m\u001b[0;34m(\u001b[0m\u001b[0mfigsize\u001b[0m\u001b[0;34m=\u001b[0m\u001b[0;34m(\u001b[0m\u001b[0;36m10\u001b[0m\u001b[0;34m,\u001b[0m\u001b[0;36m10\u001b[0m\u001b[0;34m)\u001b[0m\u001b[0;34m)\u001b[0m\u001b[0;34m\u001b[0m\u001b[0;34m\u001b[0m\u001b[0m\n\u001b[1;32m     18\u001b[0m \u001b[0max\u001b[0m\u001b[0;34m=\u001b[0m\u001b[0msns\u001b[0m\u001b[0;34m.\u001b[0m\u001b[0mheatmap\u001b[0m\u001b[0;34m(\u001b[0m\u001b[0mdfh\u001b[0m\u001b[0;34m,\u001b[0m \u001b[0mcmap\u001b[0m\u001b[0;34m=\u001b[0m\u001b[0;34m\"coolwarm\"\u001b[0m\u001b[0;34m,\u001b[0m \u001b[0mannot\u001b[0m\u001b[0;34m=\u001b[0m\u001b[0;32mTrue\u001b[0m\u001b[0;34m,\u001b[0m \u001b[0mannot_kws\u001b[0m\u001b[0;34m=\u001b[0m\u001b[0;34m{\u001b[0m\u001b[0;34m\"size\"\u001b[0m\u001b[0;34m:\u001b[0m \u001b[0;36m11\u001b[0m\u001b[0;34m}\u001b[0m\u001b[0;34m)\u001b[0m\u001b[0;34m\u001b[0m\u001b[0;34m\u001b[0m\u001b[0m\n",
      "\u001b[0;31mNameError\u001b[0m: name 'sns' is not defined"
     ]
    }
   ],
   "source": [
    "    conn = sql.connect(\"GHdata.db\")\n",
    "    cursor = conn.execute(\"select * from Greenhousedata\")\n",
    "    c= conn.cursor()\n",
    "    df1 = pd.DataFrame(cursor.fetchall(),columns = ['GenotypeNumber','Genotype','rep','exp','DAI3','DAI5','DAI7','DAI9'], dtype=float) \n",
    "    convert_dict = {'GenotypeNumber': str, 'Genotype':  str,} \n",
    "    df = df1.astype(convert_dict) \n",
    "    df3=df.groupby('Genotype')['DAI3'].mean() \n",
    "    df5=df.groupby('Genotype')['DAI5'].mean()\n",
    "    df7=df.groupby('Genotype')['DAI7'].mean()\n",
    "    df9=df.groupby('Genotype')['DAI9'].mean()\n",
    "    dfp=df3.to_frame().join(df5.to_frame()).join(df7.to_frame()).join(df9.to_frame())\n",
    "    dfp.reset_index(inplace = True)\n",
    "    dfh=dfp\n",
    "    dfh = dfh.set_index(['Genotype'])\n",
    "\n",
    "    sns.set()\n",
    "    fig, ax = plt.subplots(figsize=(10,10)) \n",
    "    ax=sns.heatmap(dfh, cmap=\"coolwarm\", annot=True, annot_kws={\"size\": 11})\n",
    "    #ax.set_title('Disease Evaluation at different days after inoculation among tested genotypes', fontsize = 15)\n",
    "    bottom, top = ax.get_ylim()\n",
    "    ax.set_ylim(bottom + 0.5, top - 0.5)\n",
    "    ax.set_xticklabels(ax.get_xmajorticklabels(), fontsize = 13)\n",
    "    ax.set_yticklabels(ax.get_ymajorticklabels(), fontsize = 13)\n",
    "    plt.xlabel('Disease Evaluation- DAI (days after inoculation)', fontsize = 13)\n",
    "    plt.ylabel('Genotype', fontsize = 13)\n",
    "    img_html2 = getCurrFigAsBase64HTML2();\n",
    "    \n",
    "    # researcher tool, expected disease among genotypes\n",
    "    conn = sql.connect(\"GHdata.db\")\n",
    "    cursor = conn.execute(\"select * from Greenhousedata\")\n",
    "    c= conn.cursor()\n",
    "\n",
    "    df1 = pd.DataFrame(cursor.fetchall(),columns = ['GenotypeNumber','Genotype','rep','exp','DAI3','DAI5','DAI7','DAI9'], dtype=float) \n",
    "    convert_dict = {'GenotypeNumber': str, \n",
    "                    'Genotype':  str,\n",
    "                   } \n",
    "\n",
    "    df = df1.astype(convert_dict) \n",
    "    df['DAI53']=df['DAI5']-df['DAI3']\n",
    "    df['DAI75']=df['DAI7']-df['DAI5']\n",
    "    df['DAI97']=df['DAI9']-df['DAI7']\n",
    "\n",
    "    df53=df.groupby('Genotype')['DAI53'].mean()\n",
    "    df53=pd.DataFrame(df53)\n",
    "    df53.reset_index(inplace = True)\n",
    "\n",
    "    plt.figure(figsize=(5,5), dpi= 80)\n",
    "    plt.hlines(y=df53.index, xmin=0, xmax=df53.DAI53)\n",
    "    for x, y, tex in zip(df53.DAI53, df53.index, df53.DAI53):\n",
    "        t = plt.text(x, y, round(tex, 3),\n",
    "                     verticalalignment='center', fontdict={'color':'red', 'size':10})\n",
    "\n",
    "    plt.yticks(df53.index, df53.Genotype, fontsize=12)\n",
    "    plt.title('[B-1]DAI3 to DAI5', fontdict={'size':12})\n",
    "    plt.ylabel('  ', fontsize = 10)\n",
    "    plt.grid(linestyle='--', alpha=1)\n",
    "    plt.xlim(0, 0.2)\n",
    "    plt.show()\n",
    "    img_html3 = getCurrFigAsBase64HTML3();\n",
    "\n",
    "\n",
    "\n",
    "\n",
    "    df75=df.groupby('Genotype')['DAI75'].mean()\n",
    "    df75=pd.DataFrame(df75)\n",
    "    df75.reset_index(inplace = True)\n",
    "\n",
    "    plt.figure(figsize=(5,5), dpi= 80)\n",
    "    plt.hlines(y=df75.index, xmin=0, xmax=df75.DAI75)\n",
    "    for x, y, tex in zip(df75.DAI75, df75.index, df75.DAI75):\n",
    "        t = plt.text(x, y, round(tex, 3),\n",
    "                     verticalalignment='center', fontdict={'color':'purple', 'size':10})\n",
    "\n",
    "    plt.yticks(df75.index, df75.Genotype, fontsize=12)\n",
    "    plt.title('[B-2] DAI5 to DAI7', fontdict={'size':12})\n",
    "    plt.ylabel(' ', fontsize = 10)\n",
    "    plt.grid(linestyle='--', alpha=1)\n",
    "    plt.xlim(0, 0.2)\n",
    "    plt.show()\n",
    "    img_html4 = getCurrFigAsBase64HTML4();\n",
    "\n",
    "    df97=df.groupby('Genotype')['DAI97'].mean()\n",
    "    df97=pd.DataFrame(df97)\n",
    "    df97.reset_index(inplace = True)\n",
    "\n",
    "    plt.figure(figsize=(5,5), dpi= 80)\n",
    "    plt.hlines(y=df97.index, xmin=0, xmax=df97.DAI97)\n",
    "    for x, y, tex in zip(df97.DAI97, df97.index, df97.DAI97):\n",
    "        t = plt.text(x, y, round(tex, 3),\n",
    "                     verticalalignment='center', fontdict={'color':'blue', 'size':10})\n",
    "\n",
    "    plt.yticks(df97.index, df97.Genotype, fontsize=12)\n",
    "    plt.title('[B-3]DAI7 to DAI9', fontdict={'size':12})\n",
    "    plt.ylabel(' ', fontsize = 10)\n",
    "    plt.grid(linestyle='--', alpha=1)\n",
    "    plt.xlim(0, 0.2)\n",
    "    plt.show()    \n",
    "    img_html5 = getCurrFigAsBase64HTML5();\n",
    "\n",
    "    # correlation data\n",
    "    # read field data\n",
    "    field = pd.read_csv('field_INFO8000.txt', delim_whitespace=True)\n",
    "    field = field.drop('REP', 1)\n",
    "    field = field.rename(columns={\"TRT\": \"Genotype\"})\n",
    "    m1 = field.groupby('Genotype')['WM1'].mean().to_frame()\n",
    "    m2 = field.groupby('Genotype')['WM2'].mean().to_frame()\n",
    "    m3 = field.groupby('Genotype')['WM3'].mean().to_frame()\n",
    "    m4 = field.groupby('Genotype')['WM4'].mean().to_frame()\n",
    "    m5 = field.groupby('Genotype')['WM5'].mean().to_frame()\n",
    "    m6 = field.groupby('Genotype')['WM6'].mean().to_frame()\n",
    "\n",
    "    field_2018 = m1.merge(m2, left_index=True, right_index=True).merge(m3, left_index=True, right_index=True)\n",
    "    field_2018 = field_2018.merge(m4, left_index=True, right_index=True).merge(m5, left_index=True, right_index=True)\n",
    "    field_2018= field_2018.merge(m6, left_index=True, right_index=True)\n",
    "\n",
    "    field_2018['mean'] = field_2018.mean(axis=1)\n",
    "    field_2018 = field_2018.drop(columns=['WM1', 'WM2', 'WM3', 'WM4', 'WM5', 'WM6'])\n",
    "    field_2018.reset_index(inplace = True)\n",
    "    field_2018 = field_2018.set_index('Genotype')\n",
    "    field_2018 = field_2018.drop(['594','680','703', '765'])\n",
    "    field_2018['Genotype']=field_2018.index\n",
    "    field_2018.index.names = ['index']\n",
    "\n",
    "    # read researcher raw data\n",
    "    conn = sql.connect(\"GHdata.db\")\n",
    "    cursor = conn.execute(\"select * from Greenhousedata\")\n",
    "    c= conn.cursor()\n",
    "\n",
    "    df1 = pd.DataFrame(cursor.fetchall(),columns = ['GenotypeNumber','Genotype','rep','exp','DAI3','DAI5','DAI7','DAI9'], dtype=float) \n",
    "    convert_dict = {'GenotypeNumber': str, \n",
    "                    'Genotype':  str,\n",
    "                   } \n",
    "    df = df1.astype(convert_dict) \n",
    "\n",
    "    df3=df.groupby('Genotype')['DAI3'].mean()\n",
    "    df5=df.groupby('Genotype')['DAI5'].mean()\n",
    "    df7=df.groupby('Genotype')['DAI7'].mean()\n",
    "    df9=df.groupby('Genotype')['DAI9'].mean()\n",
    "    dfp=df3.to_frame().join(df5.to_frame()).join(df7.to_frame()).join(df9.to_frame())\n",
    "    dfp.reset_index(inplace = True)\n",
    "    dfh_n = dfp\n",
    "    dfh_n[\"Genotype\"] = dfh_n[\"Genotype\"].apply(str)\n",
    "\n",
    "\n",
    "\n",
    "    dfr = dfh_n.merge(field_2018, left_on='Genotype', right_on='Genotype', suffixes=('_left', '_right'))\n",
    "    dfr=dfr.drop('Genotype', axis=1)\n",
    "    dfr =dfr.rename(columns={'mean': 'field'})\n",
    "\n",
    "    dfr = dfr.round(2)\n",
    "    plt.figure(figsize=(.3,.3))\n",
    "    sns.pairplot(dfr)\n",
    "    \n",
    "    img_html7 = getCurrFigAsBase64HTML7();\n",
    "\n",
    "    #'Correlation between Field and Greehouse')\n",
    "    plt.matshow(dfr.corr(), cmap='Reds')\n",
    "    plt.xticks(range(len(dfr.columns)), dfr.columns)\n",
    "    plt.yticks(range(len(dfr.columns)), dfr.columns)\n",
    "    plt.colorbar()\n",
    "    plt.show() \n",
    "    \n",
    "    img_html8 = getCurrFigAsBase64HTML8();  "
   ]
  },
  {
   "cell_type": "code",
   "execution_count": null,
   "metadata": {},
   "outputs": [],
   "source": []
  },
  {
   "cell_type": "code",
   "execution_count": null,
   "metadata": {},
   "outputs": [],
   "source": []
  }
 ],
 "metadata": {
  "kernelspec": {
   "display_name": "Python 3",
   "language": "python",
   "name": "python3"
  },
  "language_info": {
   "codemirror_mode": {
    "name": "ipython",
    "version": 3
   },
   "file_extension": ".py",
   "mimetype": "text/x-python",
   "name": "python",
   "nbconvert_exporter": "python",
   "pygments_lexer": "ipython3",
   "version": "3.7.4"
  }
 },
 "nbformat": 4,
 "nbformat_minor": 4
}
