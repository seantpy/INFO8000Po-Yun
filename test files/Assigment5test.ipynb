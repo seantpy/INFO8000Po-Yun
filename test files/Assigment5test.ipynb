{
 "cells": [
  {
   "cell_type": "code",
   "execution_count": 34,
   "metadata": {},
   "outputs": [
    {
     "data": {
      "text/plain": [
       "<function seaborn.rcmod.set(context='notebook', style='darkgrid', palette='deep', font='sans-serif', font_scale=1, color_codes=True, rc=None)>"
      ]
     },
     "execution_count": 34,
     "metadata": {},
     "output_type": "execute_result"
    }
   ],
   "source": [
    "from sklearn.linear_model import LinearRegression\n",
    "from sklearn.metrics import mean_squared_error\n",
    "from scipy import optimize\n",
    "import pandas as pd\n",
    "import matplotlib.pyplot as plt\n",
    "import numpy as np\n",
    "import seaborn as sns\n",
    "sns.set\n"
   ]
  },
  {
   "cell_type": "code",
   "execution_count": 35,
   "metadata": {},
   "outputs": [
    {
     "data": {
      "text/plain": [
       "(20000,)"
      ]
     },
     "metadata": {},
     "output_type": "display_data"
    },
    {
     "data": {
      "text/plain": [
       "array([2.99679119])"
      ]
     },
     "metadata": {},
     "output_type": "display_data"
    },
    {
     "data": {
      "text/plain": [
       "6.817231622231733"
      ]
     },
     "metadata": {},
     "output_type": "display_data"
    },
    {
     "data": {
      "text/plain": [
       "'RMSE =19.93816682288631'"
      ]
     },
     "metadata": {},
     "output_type": "display_data"
    },
    {
     "data": {
      "text/plain": [
       "[<matplotlib.lines.Line2D at 0x1a225b33d0>]"
      ]
     },
     "execution_count": 35,
     "metadata": {},
     "output_type": "execute_result"
    },
    {
     "data": {
      "image/png": "[encoded data removed]",
      "text/plain": [
       "<Figure size 360x360 with 2 Axes>"
      ]
     },
     "metadata": {
      "needs_background": "light"
     },
     "output_type": "display_data"
    }
   ],
   "source": [
    "np.random.seed(8000)\n",
    "x =np.linspace(-10,10,20000)\n",
    "y = 3*x +  7 + np.random.normal(scale=20,size=x.shape)\n",
    "f = plt.figure(figsize=(5,5))\n",
    "ax = f.add_subplot (111)\n",
    "ax.plot(x,y,\"o\")\n",
    "\n",
    "lr=LinearRegression()\n",
    "display(x.shape)\n",
    "X = x.reshape(-1,1)\n",
    "fit = lr.fit(X,y)\n",
    "\n",
    "display(fit.coef_)\n",
    "display(fit.intercept_)\n",
    "\n",
    "y_pred = fit.predict(X)\n",
    "\n",
    "error=y_pred-y\n",
    "\n",
    "\n",
    "ax2 = f.add_subplot(122)\n",
    "ax2.hist(error)\n",
    "\n",
    "sse=np.sum(error**2)\n",
    "rmse=np.sqrt(sse/len(x))\n",
    "display(\"RMSE =\"+ str(rmse))\n",
    "\n",
    "ax.plot(x,y_pred, \"--\")\n",
    "\n",
    "\n"
   ]
  },
  {
   "cell_type": "code",
   "execution_count": 36,
   "metadata": {},
   "outputs": [
    {
     "data": {
      "text/plain": [
       "array([2.90708467, 5.6336905 ])"
      ]
     },
     "execution_count": 36,
     "metadata": {},
     "output_type": "execute_result"
    },
    {
     "data": {
      "image/png": "[encoded data removed]",
      "text/plain": [
       "<Figure size 720x720 with 1 Axes>"
      ]
     },
     "metadata": {
      "needs_background": "light"
     },
     "output_type": "display_data"
    }
   ],
   "source": [
    "%reset -f\n",
    "from sklearn.linear_model import LinearRegression\n",
    "from sklearn.metrics import mean_squared_error\n",
    "from scipy import optimize\n",
    "import pandas as pd\n",
    "import matplotlib.pyplot as plt\n",
    "import numpy as np\n",
    "import seaborn as sns\n",
    "sns.set\n",
    "\n",
    "np.random.seed(8000)\n",
    "x =np.linspace(-10,10,20)\n",
    "y = 3*x +  7 + np.random.normal(scale=20,size=x.shape)\n",
    "f = plt.figure(figsize=(10,10))\n",
    "ax = f.add_subplot (111)\n",
    "ax.plot(x,y,\"o\")\n",
    "\n",
    "\n",
    "def loss_function(w,x,y):\n",
    "    y_pred = w[0]*x + w[1]\n",
    "    error = np.sum((y_pred-y)**2)\n",
    "    return error\n",
    "\n",
    "w=optimize.minimize(loss_function,[0,0],args=(x,y))\n",
    "w.x\n"
   ]
  },
  {
   "cell_type": "code",
   "execution_count": 3,
   "metadata": {},
   "outputs": [
    {
     "data": {
      "text/plain": [
       "array([ 7.15339776,  8.85253665, -1.66568199, -7.82692464, -3.59386935,\n",
       "        9.12361453,  7.98873825, -3.24329112, -2.14627871,  6.7503409 ,\n",
       "       -5.04889396,  9.40127761,  7.44602171, -6.54202079, -9.65758023,\n",
       "        0.48571238, -5.14375697, -8.59663995, -7.04071105,  9.00695016])"
      ]
     },
     "metadata": {},
     "output_type": "display_data"
    },
    {
     "data": {
      "text/plain": [
       "array([-1.74567404,  9.68621986,  1.38544839, -4.56854498, -4.24559599,\n",
       "        5.02408325,  3.22150571, -5.38788341, -0.81003886, -9.56767984,\n",
       "        5.09842705,  3.59382107, -8.05744708, -2.72800435, -7.93727023,\n",
       "       -5.64247544,  7.15783981, -0.76000547, -2.85153407, -3.46496916])"
      ]
     },
     "metadata": {},
     "output_type": "display_data"
    },
    {
     "data": {
      "text/html": [
       "<div>\n",
       "<style scoped>\n",
       "    .dataframe tbody tr th:only-of-type {\n",
       "        vertical-align: middle;\n",
       "    }\n",
       "\n",
       "    .dataframe tbody tr th {\n",
       "        vertical-align: top;\n",
       "    }\n",
       "\n",
       "    .dataframe thead th {\n",
       "        text-align: right;\n",
       "    }\n",
       "</style>\n",
       "<table border=\"1\" class=\"dataframe\">\n",
       "  <thead>\n",
       "    <tr style=\"text-align: right;\">\n",
       "      <th></th>\n",
       "      <th>y</th>\n",
       "      <th>x1</th>\n",
       "      <th>x2</th>\n",
       "    </tr>\n",
       "  </thead>\n",
       "  <tbody>\n",
       "    <tr>\n",
       "      <td>0</td>\n",
       "      <td>17.191213</td>\n",
       "      <td>7.153398</td>\n",
       "      <td>-1.745674</td>\n",
       "    </tr>\n",
       "    <tr>\n",
       "      <td>1</td>\n",
       "      <td>107.554610</td>\n",
       "      <td>8.852537</td>\n",
       "      <td>9.686220</td>\n",
       "    </tr>\n",
       "    <tr>\n",
       "      <td>2</td>\n",
       "      <td>8.064995</td>\n",
       "      <td>-1.665682</td>\n",
       "      <td>1.385448</td>\n",
       "    </tr>\n",
       "    <tr>\n",
       "      <td>3</td>\n",
       "      <td>-21.160018</td>\n",
       "      <td>-7.826925</td>\n",
       "      <td>-4.568545</td>\n",
       "    </tr>\n",
       "    <tr>\n",
       "      <td>4</td>\n",
       "      <td>-13.058789</td>\n",
       "      <td>-3.593869</td>\n",
       "      <td>-4.245596</td>\n",
       "    </tr>\n",
       "    <tr>\n",
       "      <td>5</td>\n",
       "      <td>87.856840</td>\n",
       "      <td>9.123615</td>\n",
       "      <td>5.024083</td>\n",
       "    </tr>\n",
       "    <tr>\n",
       "      <td>6</td>\n",
       "      <td>27.667415</td>\n",
       "      <td>7.988738</td>\n",
       "      <td>3.221506</td>\n",
       "    </tr>\n",
       "    <tr>\n",
       "      <td>7</td>\n",
       "      <td>-67.477237</td>\n",
       "      <td>-3.243291</td>\n",
       "      <td>-5.387883</td>\n",
       "    </tr>\n",
       "    <tr>\n",
       "      <td>8</td>\n",
       "      <td>-37.491999</td>\n",
       "      <td>-2.146279</td>\n",
       "      <td>-0.810039</td>\n",
       "    </tr>\n",
       "    <tr>\n",
       "      <td>9</td>\n",
       "      <td>-81.238325</td>\n",
       "      <td>6.750341</td>\n",
       "      <td>-9.567680</td>\n",
       "    </tr>\n",
       "    <tr>\n",
       "      <td>10</td>\n",
       "      <td>21.327356</td>\n",
       "      <td>-5.048894</td>\n",
       "      <td>5.098427</td>\n",
       "    </tr>\n",
       "    <tr>\n",
       "      <td>11</td>\n",
       "      <td>70.267614</td>\n",
       "      <td>9.401278</td>\n",
       "      <td>3.593821</td>\n",
       "    </tr>\n",
       "    <tr>\n",
       "      <td>12</td>\n",
       "      <td>-48.549009</td>\n",
       "      <td>7.446022</td>\n",
       "      <td>-8.057447</td>\n",
       "    </tr>\n",
       "    <tr>\n",
       "      <td>13</td>\n",
       "      <td>-31.796731</td>\n",
       "      <td>-6.542021</td>\n",
       "      <td>-2.728004</td>\n",
       "    </tr>\n",
       "    <tr>\n",
       "      <td>14</td>\n",
       "      <td>-90.018416</td>\n",
       "      <td>-9.657580</td>\n",
       "      <td>-7.937270</td>\n",
       "    </tr>\n",
       "    <tr>\n",
       "      <td>15</td>\n",
       "      <td>-20.181153</td>\n",
       "      <td>0.485712</td>\n",
       "      <td>-5.642475</td>\n",
       "    </tr>\n",
       "    <tr>\n",
       "      <td>16</td>\n",
       "      <td>68.916684</td>\n",
       "      <td>-5.143757</td>\n",
       "      <td>7.157840</td>\n",
       "    </tr>\n",
       "    <tr>\n",
       "      <td>17</td>\n",
       "      <td>-12.207477</td>\n",
       "      <td>-8.596640</td>\n",
       "      <td>-0.760005</td>\n",
       "    </tr>\n",
       "    <tr>\n",
       "      <td>18</td>\n",
       "      <td>-45.687666</td>\n",
       "      <td>-7.040711</td>\n",
       "      <td>-2.851534</td>\n",
       "    </tr>\n",
       "    <tr>\n",
       "      <td>19</td>\n",
       "      <td>34.377051</td>\n",
       "      <td>9.006950</td>\n",
       "      <td>-3.464969</td>\n",
       "    </tr>\n",
       "  </tbody>\n",
       "</table>\n",
       "</div>"
      ],
      "text/plain": [
       "             y        x1        x2\n",
       "0    17.191213  7.153398 -1.745674\n",
       "1   107.554610  8.852537  9.686220\n",
       "2     8.064995 -1.665682  1.385448\n",
       "3   -21.160018 -7.826925 -4.568545\n",
       "4   -13.058789 -3.593869 -4.245596\n",
       "5    87.856840  9.123615  5.024083\n",
       "6    27.667415  7.988738  3.221506\n",
       "7   -67.477237 -3.243291 -5.387883\n",
       "8   -37.491999 -2.146279 -0.810039\n",
       "9   -81.238325  6.750341 -9.567680\n",
       "10   21.327356 -5.048894  5.098427\n",
       "11   70.267614  9.401278  3.593821\n",
       "12  -48.549009  7.446022 -8.057447\n",
       "13  -31.796731 -6.542021 -2.728004\n",
       "14  -90.018416 -9.657580 -7.937270\n",
       "15  -20.181153  0.485712 -5.642475\n",
       "16   68.916684 -5.143757  7.157840\n",
       "17  -12.207477 -8.596640 -0.760005\n",
       "18  -45.687666 -7.040711 -2.851534\n",
       "19   34.377051  9.006950 -3.464969"
      ]
     },
     "execution_count": 3,
     "metadata": {},
     "output_type": "execute_result"
    }
   ],
   "source": [
    "#bew try\n",
    "np.random.seed(8000)\n",
    "x1 =np.random.uniform(-10,10,(20))\n",
    "x2 =np.random.uniform(-10,10,(20))\n",
    "\n",
    "display(x1)\n",
    "display(x2)\n",
    "y = 3*x1 + 8*x2 + 7 + np.random.normal(scale=20,size=x1.shape)\n",
    "\n",
    "\n",
    "\n",
    "data = pd.DataFrame({\"y\":y,\"x1\":x1,\"x2\":x2})\n",
    "data\n",
    "\n"
   ]
  },
  {
   "cell_type": "code",
   "execution_count": null,
   "metadata": {},
   "outputs": [],
   "source": []
  },
  {
   "cell_type": "code",
   "execution_count": null,
   "metadata": {},
   "outputs": [],
   "source": []
  },
  {
   "cell_type": "code",
   "execution_count": 39,
   "metadata": {},
   "outputs": [
    {
     "data": {
      "text/plain": [
       "array([[17,  2],\n",
       "       [ 2, 29]])"
      ]
     },
     "metadata": {},
     "output_type": "display_data"
    },
    {
     "name": "stdout",
     "output_type": "stream",
     "text": [
      "              precision    recall  f1-score   support\n",
      "\n",
      "           0       0.89      0.89      0.89        19\n",
      "           1       0.94      0.94      0.94        31\n",
      "\n",
      "    accuracy                           0.92        50\n",
      "   macro avg       0.92      0.92      0.92        50\n",
      "weighted avg       0.92      0.92      0.92        50\n",
      "\n"
     ]
    },
    {
     "data": {
      "text/plain": [
       "'[[1.12991186]], [2.76728775]'"
      ]
     },
     "metadata": {},
     "output_type": "display_data"
    },
    {
     "data": {
      "text/html": [
       "<div>\n",
       "<style scoped>\n",
       "    .dataframe tbody tr th:only-of-type {\n",
       "        vertical-align: middle;\n",
       "    }\n",
       "\n",
       "    .dataframe tbody tr th {\n",
       "        vertical-align: top;\n",
       "    }\n",
       "\n",
       "    .dataframe thead th {\n",
       "        text-align: right;\n",
       "    }\n",
       "</style>\n",
       "<table border=\"1\" class=\"dataframe\">\n",
       "  <thead>\n",
       "    <tr style=\"text-align: right;\">\n",
       "      <th></th>\n",
       "      <th>x</th>\n",
       "      <th>y</th>\n",
       "      <th>y_pred</th>\n",
       "    </tr>\n",
       "  </thead>\n",
       "  <tbody>\n",
       "    <tr>\n",
       "      <td>17</td>\n",
       "      <td>-3.061224</td>\n",
       "      <td>1</td>\n",
       "      <td>0</td>\n",
       "    </tr>\n",
       "    <tr>\n",
       "      <td>18</td>\n",
       "      <td>-2.653061</td>\n",
       "      <td>1</td>\n",
       "      <td>0</td>\n",
       "    </tr>\n",
       "    <tr>\n",
       "      <td>19</td>\n",
       "      <td>-2.244898</td>\n",
       "      <td>0</td>\n",
       "      <td>1</td>\n",
       "    </tr>\n",
       "    <tr>\n",
       "      <td>21</td>\n",
       "      <td>-1.428571</td>\n",
       "      <td>0</td>\n",
       "      <td>1</td>\n",
       "    </tr>\n",
       "  </tbody>\n",
       "</table>\n",
       "</div>"
      ],
      "text/plain": [
       "           x  y  y_pred\n",
       "17 -3.061224  1       0\n",
       "18 -2.653061  1       0\n",
       "19 -2.244898  0       1\n",
       "21 -1.428571  0       1"
      ]
     },
     "metadata": {},
     "output_type": "display_data"
    },
    {
     "data": {
      "image/png": "[encoded data removed]",
      "text/plain": [
       "<Figure size 432x288 with 1 Axes>"
      ]
     },
     "metadata": {
      "needs_background": "light"
     },
     "output_type": "display_data"
    }
   ],
   "source": [
    "%reset -f\n",
    "import pandas as pd\n",
    "import numpy as np\n",
    "from sklearn.linear_model import LogisticRegression\n",
    "from sklearn.metrics import confusion_matrix\n",
    "from sklearn.metrics import classification_report\n",
    "import matplotlib.pyplot as plt\n",
    "np.random.seed(8000)\n",
    "def convert_to_class(x):\n",
    "    if(np.random.uniform() > x):return 0\n",
    "    return 1\n",
    "x = np.linspace(-10,10,50)\n",
    "y = 1/(1+np.exp(-(3*x+7)))\n",
    "y2=[convert_to_class(z) for z in y]\n",
    "plt.plot(x,y,'-')\n",
    "plt.plot(x,y2,\"o\")\n",
    "\n",
    "data = pd. DataFrame({\"x\":x,\"y\":y2})\n",
    "target_columns=\"y\"\n",
    "X=data.drop(columns=target_columns)\n",
    "y =data[target_columns]\n",
    "\n",
    "log_reg = LogisticRegression(solver=\"lbfgs\")\n",
    "fit = log_reg.fit(X,y)\n",
    "y_pred= log_reg.predict(X)\n",
    "\n",
    "data= data.assign(y_pred=y_pred)\n",
    "\n",
    "display(confusion_matrix(y,y_pred))\n",
    "\n",
    "print(classification_report(y,y_pred))\n",
    "display(f\"{fit.coef_}, {fit.intercept_}\");\n",
    "incorrect = data [y_pred !=y]\n",
    "plt.plot(incorrect.x,incorrect.y,\"ro\")\n",
    "display(incorrect)\n",
    "\n"
   ]
  },
  {
   "cell_type": "code",
   "execution_count": null,
   "metadata": {},
   "outputs": [],
   "source": []
  },
  {
   "cell_type": "code",
   "execution_count": null,
   "metadata": {},
   "outputs": [],
   "source": []
  },
  {
   "cell_type": "code",
   "execution_count": null,
   "metadata": {},
   "outputs": [],
   "source": []
  }
 ],
 "metadata": {
  "kernelspec": {
   "display_name": "Python 3",
   "language": "python",
   "name": "python3"
  },
  "language_info": {
   "codemirror_mode": {
    "name": "ipython",
    "version": 3
   },
   "file_extension": ".py",
   "mimetype": "text/x-python",
   "name": "python",
   "nbconvert_exporter": "python",
   "pygments_lexer": "ipython3",
   "version": "3.7.4"
  }
 },
 "nbformat": 4,
 "nbformat_minor": 4
}
