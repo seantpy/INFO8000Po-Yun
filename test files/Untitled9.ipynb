{
 "cells": [
  {
   "cell_type": "code",
   "execution_count": 14,
   "metadata": {},
   "outputs": [
    {
     "data": {
      "text/plain": [
       "array([[1., 0., 0.],\n",
       "       [0., 0., 1.],\n",
       "       [0., 1., 0.],\n",
       "       [1., 0., 0.],\n",
       "       [0., 0., 1.],\n",
       "       [0., 1., 0.],\n",
       "       [1., 0., 0.],\n",
       "       [0., 0., 1.],\n",
       "       [0., 1., 0.]])"
      ]
     },
     "execution_count": 14,
     "metadata": {},
     "output_type": "execute_result"
    }
   ],
   "source": [
    "from sklearn.naive_bayes import GaussianNB\n",
    "from sklearn.preprocessing import LabelEncoder\n",
    "from sklearn.preprocessing import OneHotEncoder\n",
    "import matplotlib.pyplot as plt\n",
    "import pandas as pd\n",
    "import seaborn as sns\n",
    "import numpy as np\n",
    "import scipy as sp\n",
    "\n",
    "\n",
    "df =pd.DataFrame({\"fruit\":[\"Apple\",\"Pear\",\"Banana\",\"Apple\",\"Pear\",\"Banana\",\"Apple\",\"Pear\",\"Banana\"]})\n",
    "#df =df.astype({\"fruit\":\"category\"})\n",
    "#df.info()\n",
    "\n",
    "#df = pd.get_dumies(df,drop_first=true)\n",
    "enc = LabelEncoder()\n",
    "df[\"encoded_fruit\"]= enc.fit_transform(df.fruit) \n",
    "\n",
    "enc = OneHotEncoder(sparse=False,categories=\"auto\")\n",
    "enc.fit_transform(df[[\"encoded_fruit\"]])\n",
    "\n",
    "\n"
   ]
  },
  {
   "cell_type": "code",
   "execution_count": 72,
   "metadata": {},
   "outputs": [
    {
     "name": "stdout",
     "output_type": "stream",
     "text": [
      "0.9666666666666667\n"
     ]
    },
    {
     "data": {
      "text/plain": [
       "{'n_neighbors': 4, 'weights': 'uniform'}"
      ]
     },
     "execution_count": 72,
     "metadata": {},
     "output_type": "execute_result"
    }
   ],
   "source": [
    "%reset -f\n",
    "from sklearn.preprocessing import StandardScaler\n",
    "from sklearn.preprocessing import MinMaxScaler\n",
    "from sklearn.neighbors import KNeighborsClassifier\n",
    "from sklearn.model_selection import train_test_split\n",
    "from sklearn.model_selection import GridSearchCV\n",
    "import matplotlib.pyplot as plt\n",
    "\n",
    "import pandas as pd\n",
    "import seaborn as sns\n",
    "import numpy as np\n",
    "import scipy as sp\n",
    "iris = sns.load_dataset(\"iris\")\n",
    "iris\n",
    "X = iris.drop(columns=[\"species\"])\n",
    "y=iris.species\n",
    "#scaler = StandardScaler ()\n",
    "#X = scaler.fit_transform(X)\n",
    "\n",
    "\n",
    "X_train,X_test,y_train,y_test = train_test_split(X,y, test_size=0.2,stratify=y)\n",
    "#print(X_train.shape)\n",
    "#print(X_test.shape)\n",
    "\n",
    "#display(y_train[y_train==\"virginica\"].shape)\n",
    "#display(y_test[y_test==\"virginica\"].shape)\n",
    "\n",
    "scaler = MinMaxScaler ()\n",
    "X_train = scaler.fit_transform(X_train)\n",
    "X_test = scaler.fit_transform(X_test)\n",
    "\n",
    "\n",
    "#clf = KNeighborsClassifier(n_neighbors =1)\n",
    "clf=GridSearchCV(KNeighborsClassifier(),param_grid={\"n_neighbors\":[1,2,3,4,5,6],\"weights\":[\"uniform\",\"distance\"]},cv=5,verbose=0)\n",
    "fit = clf.fit(X_train,y_train)\n",
    "print(fit.score(X_test,y_test))\n",
    "fit.best_params_\n",
    "\n",
    "\n"
   ]
  },
  {
   "cell_type": "code",
   "execution_count": null,
   "metadata": {},
   "outputs": [],
   "source": []
  },
  {
   "cell_type": "code",
   "execution_count": null,
   "metadata": {},
   "outputs": [],
   "source": []
  }
 ],
 "metadata": {
  "kernelspec": {
   "display_name": "Python 3",
   "language": "python",
   "name": "python3"
  },
  "language_info": {
   "codemirror_mode": {
    "name": "ipython",
    "version": 3
   },
   "file_extension": ".py",
   "mimetype": "text/x-python",
   "name": "python",
   "nbconvert_exporter": "python",
   "pygments_lexer": "ipython3",
   "version": "3.7.4"
  }
 },
 "nbformat": 4,
 "nbformat_minor": 4
}
