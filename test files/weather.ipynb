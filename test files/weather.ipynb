{
 "cells": [
  {
   "cell_type": "code",
   "execution_count": 1,
   "metadata": {},
   "outputs": [],
   "source": [
    "import json\n",
    "import requests\n",
    "\n"
   ]
  },
  {
   "cell_type": "code",
   "execution_count": 2,
   "metadata": {},
   "outputs": [
    {
     "name": "stdout",
     "output_type": "stream",
     "text": [
      "https://api.openweathermap.org/data/2.5/weather\n",
      "https://api.openweathermap.org/data/2.5/forecast\n"
     ]
    }
   ],
   "source": [
    "key = \"8f2980aea5484e2d60be6e013e5c0fda\"\n",
    "domain = \"api.openweathermap.org\"\n",
    "protocol = \"https://\"\n",
    "version = \"/data/2.5/\"\n",
    "resource1 = \"weather\"\n",
    "resource2 = \"forecast\"\n",
    "params = {\"zip\":\"30605,us\", \"appid\":key,\"units\":\"imperial\"}\n",
    "weather_url = protocol+domain+version+resource1\n",
    "forcast_url =protocol+domain+version+resource2\n",
    "print(weather_url)\n",
    "print (forcast_url)"
   ]
  },
  {
   "cell_type": "code",
   "execution_count": 14,
   "metadata": {},
   "outputs": [
    {
     "name": "stdout",
     "output_type": "stream",
     "text": [
      "<Response [200]>\n"
     ]
    }
   ],
   "source": [
    "resp = requests.get(forcast_url,params)\n"
   ]
  },
  {
   "cell_type": "code",
   "execution_count": 13,
   "metadata": {},
   "outputs": [
    {
     "data": {
      "text/plain": [
       "[54.75,\n",
       " 54.82,\n",
       " 57.02,\n",
       " 56.66,\n",
       " 56.43,\n",
       " 56.57,\n",
       " 65.89,\n",
       " 72.28,\n",
       " 72.75,\n",
       " 61.27,\n",
       " 55.47,\n",
       " 52.07,\n",
       " 49.62,\n",
       " 51.33,\n",
       " 67.06,\n",
       " 72.84,\n",
       " 72.36,\n",
       " 62.06,\n",
       " 54.84,\n",
       " 48.88,\n",
       " 43.3,\n",
       " 44.47,\n",
       " 57.18,\n",
       " 65.61,\n",
       " 66.7,\n",
       " 57.49,\n",
       " 55.45,\n",
       " 53.2,\n",
       " 51.78,\n",
       " 51.57,\n",
       " 57.04,\n",
       " 64.04,\n",
       " 67.91,\n",
       " 64.98,\n",
       " 56.61,\n",
       " 53.49,\n",
       " 51.44,\n",
       " 53.06,\n",
       " 64.62,\n",
       " 72.9]"
      ]
     },
     "execution_count": 13,
     "metadata": {},
     "output_type": "execute_result"
    }
   ],
   "source": [
    "data = resp.json()\n",
    "forcast = data[\"list\"]\n",
    "times = []\n",
    "temps =[]\n",
    "for day in forcast:\n",
    "    times.append(day['dt'])\n",
    "    temps.append(day['main']['temp'])\n",
    "temps"
   ]
  },
  {
   "cell_type": "code",
   "execution_count": null,
   "metadata": {},
   "outputs": [],
   "source": []
  },
  {
   "cell_type": "code",
   "execution_count": null,
   "metadata": {},
   "outputs": [],
   "source": []
  }
 ],
 "metadata": {
  "kernelspec": {
   "display_name": "Python 3",
   "language": "python",
   "name": "python3"
  },
  "language_info": {
   "codemirror_mode": {
    "name": "ipython",
    "version": 3
   },
   "file_extension": ".py",
   "mimetype": "text/x-python",
   "name": "python",
   "nbconvert_exporter": "python",
   "pygments_lexer": "ipython3",
   "version": "3.7.4"
  }
 },
 "nbformat": 4,
 "nbformat_minor": 4
}
