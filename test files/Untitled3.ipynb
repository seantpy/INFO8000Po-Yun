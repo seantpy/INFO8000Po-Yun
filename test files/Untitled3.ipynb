{
 "cells": [
  {
   "cell_type": "code",
   "execution_count": 48,
   "metadata": {},
   "outputs": [],
   "source": [
    "%reset -f\n",
    "from sklearn.linear_model import LinearRegression\n",
    "import pandas as pd\n",
    "import matplotlib.pyplot as plt\n",
    "import numpy as np\n",
    "import seaborn as sns\n",
    "\n",
    "from scipy import optimize\n",
    "#from scipy import minimize\n",
    "sns.set()\n"
   ]
  },
  {
   "cell_type": "code",
   "execution_count": 52,
   "metadata": {},
   "outputs": [
    {
     "data": {
      "text/plain": [
       "array([2.86062697, 4.95053497])"
      ]
     },
     "execution_count": 52,
     "metadata": {},
     "output_type": "execute_result"
    },
    {
     "data": {
      "image/png": "[encoded data removed]",
      "text/plain": [
       "<Figure size 360x360 with 1 Axes>"
      ]
     },
     "metadata": {},
     "output_type": "display_data"
    }
   ],
   "source": [
    "\n",
    "np.random.seed(8000)\n",
    "x = np.linspace (-10,10,20)\n",
    "y = 3*x + 7 + np.random.normal(scale=30,size =x.shape)\n",
    "f = plt.figure(figsize =(5,5))\n",
    "ax = f.add_subplot(111)\n",
    "ax.plot(x,y,\"o\")\n",
    "\n",
    "lr = LinearRegression()\n",
    "X = x.reshape (-1,1)\n",
    "fit = lr.fit(X,y)\n",
    "y_pred = fit.predict(X)\n",
    "\n",
    "def loss_function(w,x,y):\n",
    "    y_pred = w[0]*x + w[1]\n",
    "    error = np.sum((y_pred-y)**2)\n",
    "    return error\n",
    "\n",
    "w= optimize.minimize(loss_function,[0,0],args=(x,y))\n",
    "w.x     \n",
    "        \n",
    "\n"
   ]
  },
  {
   "cell_type": "code",
   "execution_count": 50,
   "metadata": {},
   "outputs": [
    {
     "ename": "SyntaxError",
     "evalue": "unexpected EOF while parsing (<ipython-input-50-03d81ba670bf>, line 32)",
     "output_type": "error",
     "traceback": [
      "\u001b[0;36m  File \u001b[0;32m\"<ipython-input-50-03d81ba670bf>\"\u001b[0;36m, line \u001b[0;32m32\u001b[0m\n\u001b[0;31m    \u001b[0m\n\u001b[0m    ^\u001b[0m\n\u001b[0;31mSyntaxError\u001b[0m\u001b[0;31m:\u001b[0m unexpected EOF while parsing\n"
     ]
    }
   ],
   "source": [
    "\n",
    "np.random.seed(8000)\n",
    "x = np.linspace (-10,10,20)\n",
    "y = 3*x + 7 + np.random.normal(scale=20,size =x.shape)\n",
    "f = plt.figure(figsize =(5,5))\n",
    "ax = f.add_subplot(111)\n",
    "ax.plot(x,y,\"o\")\n",
    "\n",
    "lr = LinearRegression()\n",
    "X = x.reshape (-1,1)\n",
    "fit = lr.fit(X,y)\n",
    "y_pred = fit.predict(X)\n",
    "#display(fit.coef)\n",
    "#display(fit.intercept_)\n",
    "error = y_pred - y\n",
    "sse = np.sum(error**2)\n",
    "rmse = np.sqrt(sse/len(x))\n",
    "ax.plot(x,y_pred,\"-\")\n",
    "\n",
    "mse_sklearn_way = mean_squared_error(y_pred,y)\n",
    "\n",
    "display (sse)\n",
    "display(rmse)\n",
    "\n",
    "\n",
    "display(\"RMSE =\" +_str(rmse))\n",
    "display(\"RMSE_sklearn_way =\" + str(rmse_sklearn_way)\n",
    "\n",
    "\n",
    "\n",
    "\n",
    "\n",
    "\n"
   ]
  },
  {
   "cell_type": "code",
   "execution_count": 57,
   "metadata": {},
   "outputs": [
    {
     "name": "stdin",
     "output_type": "stream",
     "text": [
      "Once deleted, variables cannot be recovered. Proceed (y/[n])?  y\n"
     ]
    },
    {
     "name": "stdout",
     "output_type": "stream",
     "text": [
      "Don't know how to reset  -, please run `%reset?` for details\n",
      "Don't know how to reset  f, please run `%reset?` for details\n"
     ]
    },
    {
     "data": {
      "text/plain": [
       "[<matplotlib.lines.Line2D at 0x1a1a878a90>]"
      ]
     },
     "execution_count": 57,
     "metadata": {},
     "output_type": "execute_result"
    },
    {
     "data": {
      "image/png": "[encoded data removed]",
      "text/plain": [
       "<Figure size 432x288 with 1 Axes>"
      ]
     },
     "metadata": {},
     "output_type": "display_data"
    }
   ],
   "source": [
    "%reset - f\n",
    "import pandas as pd\n",
    "import numpy as np\n",
    "from sklearn.linear_model import LogisticRegression\n",
    "import matplotlib.pyplot as pit\n",
    "x = np.linspace (-10,10,20)\n",
    "y =1/(1+np.exp(-(3*x+7)))\n",
    "plt.plot(x,y)\n",
    "\n",
    "              "
   ]
  },
  {
   "cell_type": "code",
   "execution_count": null,
   "metadata": {},
   "outputs": [],
   "source": []
  }
 ],
 "metadata": {
  "kernelspec": {
   "display_name": "Python 3",
   "language": "python",
   "name": "python3"
  },
  "language_info": {
   "codemirror_mode": {
    "name": "ipython",
    "version": 3
   },
   "file_extension": ".py",
   "mimetype": "text/x-python",
   "name": "python",
   "nbconvert_exporter": "python",
   "pygments_lexer": "ipython3",
   "version": "3.7.4"
  }
 },
 "nbformat": 4,
 "nbformat_minor": 4
}
