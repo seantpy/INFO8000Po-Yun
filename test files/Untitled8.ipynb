{
 "cells": [
  {
   "cell_type": "code",
   "execution_count": null,
   "metadata": {},
   "outputs": [],
   "source": [
    "from sklearn.naive_bayes import GaussianNB\n",
    "import matplotlib.pyplot as plt\n",
    "import pandas as pd\n",
    "import seaborn as sns\n",
    "import numpy as np\n",
    "import scipy as sp\n",
    "\n",
    "np.random.seed(8000)\n",
    "N = 100\n",
    "A = pd.DataFrame({\"x\":np.random.normal(4, 2, N),\"target\" :\"A\"})\n",
    "B = pd.DataFrame({\"x\":np.random.normal(6, 2, N),\"target\" :\"B\"})\n",
    "C = pd.DataFrame({\"x\":np.random.normal(8, 2, N),\"target\" :\"C\"})\n",
    "df = pd.concat([A,B,C])\n",
    "\n",
    "\n",
    "X = df.drop(columns=[\"target\"])\n",
    "y = df.target\n",
    " \n",
    "gnb = GaussianNB()\n",
    "gnb_fit = gnb.fit (X,y)\n",
    "\n",
    "sns.scatterplot(data=df, x=\"x\", y=np.random.uniform(-.1,.1,len(df)), hue=\"target\", alpha=.5)\n",
    "gnb_fit.score(X,y)"
   ]
  },
  {
   "cell_type": "code",
   "execution_count": null,
   "metadata": {},
   "outputs": [],
   "source": [
    "\n",
    "from sklearn.naive_bayes import GaussianNB\n",
    "\n",
    "import matplotlib.pyplot as plt\n",
    "import pandas as pd\n",
    "import seaborn as sns\n",
    "import numpy as np\n",
    "import scipy as sp\n",
    "\n",
    "\n",
    "df =pd.DataFrame({\"fruite\":[\"Apple\",\"Pear\",\"Banana\",\"Apple\",\"Pear\",\"Banana\"]})\n",
    "df =df.astype({\"fruit\":\"category\"})\n",
    "df.info()\n",
    "\n",
    "df = pd.get_dumies(df,drop_first=true)\n",
    "df\n"
   ]
  },
  {
   "cell_type": "code",
   "execution_count": null,
   "metadata": {},
   "outputs": [],
   "source": []
  }
 ],
 "metadata": {
  "kernelspec": {
   "display_name": "Python 3",
   "language": "python",
   "name": "python3"
  },
  "language_info": {
   "codemirror_mode": {
    "name": "ipython",
    "version": 3
   },
   "file_extension": ".py",
   "mimetype": "text/x-python",
   "name": "python",
   "nbconvert_exporter": "python",
   "pygments_lexer": "ipython3",
   "version": "3.7.4"
  }
 },
 "nbformat": 4,
 "nbformat_minor": 4
}
