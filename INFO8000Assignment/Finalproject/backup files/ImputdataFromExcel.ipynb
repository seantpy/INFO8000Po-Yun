{
 "cells": [
  {
   "cell_type": "code",
   "execution_count": 4,
   "metadata": {},
   "outputs": [
    {
     "ename": "ModuleNotFoundError",
     "evalue": "No module named 'matplotlib'",
     "output_type": "error",
     "traceback": [
      "\u001b[0;31m---------------------------------------------------------------------------\u001b[0m",
      "\u001b[0;31mModuleNotFoundError\u001b[0m                       Traceback (most recent call last)",
      "\u001b[0;32m<ipython-input-4-b4d781493bfb>\u001b[0m in \u001b[0;36m<module>\u001b[0;34m\u001b[0m\n\u001b[1;32m      3\u001b[0m \u001b[0;31m#from sklearn.linear_model import LinearRegression\u001b[0m\u001b[0;34m\u001b[0m\u001b[0;34m\u001b[0m\u001b[0;34m\u001b[0m\u001b[0m\n\u001b[1;32m      4\u001b[0m \u001b[0;31m#from sklearn.metrics import mean_squared_error\u001b[0m\u001b[0;34m\u001b[0m\u001b[0;34m\u001b[0m\u001b[0;34m\u001b[0m\u001b[0m\n\u001b[0;32m----> 5\u001b[0;31m \u001b[0;32mimport\u001b[0m \u001b[0mmatplotlib\u001b[0m\u001b[0;34m.\u001b[0m\u001b[0mpyplot\u001b[0m \u001b[0;32mas\u001b[0m \u001b[0mplt\u001b[0m\u001b[0;34m\u001b[0m\u001b[0;34m\u001b[0m\u001b[0m\n\u001b[0m\u001b[1;32m      6\u001b[0m \u001b[0;32mfrom\u001b[0m \u001b[0mscipy\u001b[0m \u001b[0;32mimport\u001b[0m \u001b[0moptimize\u001b[0m\u001b[0;34m\u001b[0m\u001b[0;34m\u001b[0m\u001b[0m\n\u001b[1;32m      7\u001b[0m \u001b[0;32mimport\u001b[0m \u001b[0mpandas\u001b[0m \u001b[0;32mas\u001b[0m \u001b[0mpd\u001b[0m\u001b[0;34m\u001b[0m\u001b[0;34m\u001b[0m\u001b[0m\n",
      "\u001b[0;31mModuleNotFoundError\u001b[0m: No module named 'matplotlib'"
     ]
    }
   ],
   "source": [
    "import sqlite3 as sql\n",
    "import pandas as pd\n",
    "#from sklearn.linear_model import LinearRegression\n",
    "#from sklearn.metrics import mean_squared_error\n",
    "import matplotlib.pyplot as plt\n",
    "from scipy import optimize\n",
    "import pandas as pd\n",
    "import numpy as np\n",
    "import seaborn as sns\n",
    "sns.set"
   ]
  },
  {
   "cell_type": "code",
   "execution_count": null,
   "metadata": {},
   "outputs": [],
   "source": []
  },
  {
   "cell_type": "code",
   "execution_count": 5,
   "metadata": {},
   "outputs": [
    {
     "name": "stdout",
     "output_type": "stream",
     "text": [
      "     genotype# genotype  Rep  Exp     DAI9     DAI7     DAI5     DAI3\n",
      "0           15      13M    1    1  0.60900  0.41750  0.23400  0.22050\n",
      "1           15      13M    2    1  0.62000  0.37500  0.19800  0.13300\n",
      "2           15      13M    3    1  0.35250  0.18650  0.18650  0.18650\n",
      "3           15      13M    4    1      NaN      NaN      NaN  0.13000\n",
      "4           15      13M    5    1  0.44650  0.24900  0.24250  0.20800\n",
      "..         ...      ...  ...  ...      ...      ...      ...      ...\n",
      "154         15      13M    2    2  0.27940  0.27940  0.10287  0.13462\n",
      "155         15      13M    3    2  0.26035  0.23876  0.23876  0.21082\n",
      "156         15      13M    4    2  0.52832  0.48133  0.23876  0.23114\n",
      "157         15      13M    5    2  0.40100  0.40132  0.30480  0.11557\n",
      "158         15      13M    6    2  0.15621  0.15621  0.12800  0.12800\n",
      "\n",
      "[159 rows x 8 columns]\n",
      "this executed\n"
     ]
    }
   ],
   "source": [
    "conn = sql.connect(\"GHdata.db\")\n",
    "try:\n",
    "\n",
    "    cursor = conn.execute(\"select * from Greenhousedata\")\n",
    "    c= conn.cursor()\n",
    "    \n",
    "    df = pd.DataFrame(cursor.fetchall(),columns = ['GenotypeNumber','Genotype','rep','DAI3','DAI5','DAI7','DAI9']) \n",
    "    \n",
    "    df2 = pd.read_excel(\"INFO8000Final_RawData_2Exp.xlsx\")\n",
    "    df2.to_sql(\"Greenhousedata\", conn, if_exists=\"replace\",index=False)\n",
    "    print(df2)\n",
    "finally:\n",
    "    print(\"this executed\")\n",
    "    conn.close()"
   ]
  },
  {
   "cell_type": "code",
   "execution_count": null,
   "metadata": {},
   "outputs": [],
   "source": []
  },
  {
   "cell_type": "code",
   "execution_count": null,
   "metadata": {},
   "outputs": [],
   "source": []
  },
  {
   "cell_type": "code",
   "execution_count": null,
   "metadata": {},
   "outputs": [],
   "source": [
    "\n"
   ]
  },
  {
   "cell_type": "code",
   "execution_count": null,
   "metadata": {},
   "outputs": [],
   "source": [
    "\n"
   ]
  },
  {
   "cell_type": "code",
   "execution_count": null,
   "metadata": {},
   "outputs": [],
   "source": []
  }
 ],
 "metadata": {
  "kernelspec": {
   "display_name": "Python 3",
   "language": "python",
   "name": "python3"
  },
  "language_info": {
   "codemirror_mode": {
    "name": "ipython",
    "version": 3
   },
   "file_extension": ".py",
   "mimetype": "text/x-python",
   "name": "python",
   "nbconvert_exporter": "python",
   "pygments_lexer": "ipython3",
   "version": "3.7.4"
  }
 },
 "nbformat": 4,
 "nbformat_minor": 4
}
