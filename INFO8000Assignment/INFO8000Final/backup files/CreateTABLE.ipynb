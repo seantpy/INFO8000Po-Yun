{
 "cells": [
  {
   "cell_type": "code",
   "execution_count": 135,
   "metadata": {},
   "outputs": [],
   "source": [
    "import sqlite3 as sql\n",
    "import pandas as pd\n"
   ]
  },
  {
   "cell_type": "code",
   "execution_count": 137,
   "metadata": {},
   "outputs": [
    {
     "name": "stdout",
     "output_type": "stream",
     "text": [
      "Empty DataFrame\n",
      "Columns: [GenotypeNumber, Genotype, rep, DAI3, DAI5, DAI7, DAI9]\n",
      "Index: []\n",
      "this executed\n"
     ]
    }
   ],
   "source": [
    "conn = sql.connect(\"GHdata.db\")\n",
    "try:\n",
    "    conn.execute (\"\"\"\n",
    "    drop table if exists Greenhousedata\n",
    "    \"\"\")\n",
    "    conn.execute (\"\"\"\n",
    "    CREATE TABLE Greenhousedata (GenotypeNumber,Genotype,rep,DAI3,DAI5,DAI7,DAI9);\n",
    "    \"\"\")\n",
    "    \n",
    "    #conn.executemany (\"\"\"\n",
    "    #Insert into Greenhousedata values (?,?,?,?,?,?,?,?)\"\"\",[ (1,1, '222',1,0,1,2,3),(2,2, '343',2,3,1,2,3)])\n",
    "\n",
    "    cursor = conn.execute(\"select * from Greenhousedata\")\n",
    "    df = pd.DataFrame(cursor.fetchall(),columns = ['GenotypeNumber','Genotype','rep','DAI3','DAI5','DAI7','DAI9']) \n",
    "    print(df)\n",
    "    \n",
    "    #forecast table\n",
    "    #conn.execute (\"\"\"\n",
    "    #drop table if exists forecast\n",
    "    #\"\"\")\n",
    "    #conn.execute (\"\"\"\n",
    "    #CREATE TABLE forecast (City,time,weather,temp);\n",
    "    #\"\"\")\n",
    "    #cursor = conn.execute(\"select * from forecast\")\n",
    "    ##df2 = pd.DataFrame(cursor.fetchall(),columns = ['City','time','weather','temp']) \n",
    "    #print(df2)\n",
    "    \n",
    "    #cursor = conn.execute(\"select * from fielddata\")\n",
    "    #df3 = pd.DataFrame(cursor.fetchall(),columns = ['Field_Genotype','Lesion']) \n",
    "    #print(df3)\n",
    "    \n",
    "    \n",
    "    \n",
    "    \n",
    "    \n",
    "    conn.commit()\n",
    "\n",
    "    \n",
    "    \n",
    "    \n",
    "        \n",
    "finally:\n",
    "    print (\"this executed\")\n",
    "    conn.close()\n",
    "    \n",
    "\n",
    "\n",
    "    "
   ]
  },
  {
   "cell_type": "code",
   "execution_count": 99,
   "metadata": {},
   "outputs": [
    {
     "name": "stdout",
     "output_type": "stream",
     "text": [
      "602\n"
     ]
    }
   ],
   "source": [
    "\n"
   ]
  },
  {
   "cell_type": "code",
   "execution_count": 134,
   "metadata": {},
   "outputs": [
    {
     "name": "stdout",
     "output_type": "stream",
     "text": [
      "     City                 time weather   temp\n",
      "0  athens  2020-04-22 00:00:00  Clouds  12.08\n",
      "1  athens  2020-04-23 00:00:00  Clouds  11.31\n",
      "2  athens  2020-04-24 00:00:00  Clouds  11.79\n",
      "3  athens  2020-04-25 00:00:00   Clear  12.44\n",
      "4  athens  2020-04-26 00:00:00   Clear  14.54\n",
      "0.6\n",
      "Clouds\n",
      "Clouds\n",
      "440\n",
      "28\n"
     ]
    }
   ],
   "source": [
    "con = sql.connect(\"GHdata.db\")        \n",
    "cur = con.cursor()  \n",
    "cur.execute(\"select * from fielddata\")\n",
    "    \n",
    "data_field = pd.DataFrame(cur.fetchall(),columns = ['Field_Genotype','Lesion'])\n",
    "genotype = data_field.iloc[0,0]\n",
    "lesion = data_field.iloc[0,1]\n",
    "    \n",
    "cur.execute(\"select * from forecast\")\n",
    "data_temp = pd.DataFrame(cur.fetchall(),columns = ['City','time','weather','temp'])\n",
    "d1weather = data_temp.iloc[0,2]\n",
    "d2weather = data_temp.iloc[1,2]\n",
    "d3weather = data_temp.iloc[2,2]\n",
    "d4weather = data_temp.iloc[3,2]\n",
    "d5weather = data_temp.iloc[4,2]           \n",
    "d1temp = data_temp.iloc[0,3]\n",
    "d2temp = data_temp.iloc[1,3]\n",
    "d3temp = data_temp.iloc[2,3]\n",
    "d4temp = data_temp.iloc[3,3]\n",
    "d5temp = data_temp.iloc[4,3]\n",
    "#d1temp = data_field.iloc[0,3]\n",
    "d1temp=\"28\"\n",
    "print(data_temp)\n",
    "print(lesion)\n",
    "print(d1weather)\n",
    "print(d2weather)\n",
    "print(genotype)\n",
    "print(d1temp)"
   ]
  },
  {
   "cell_type": "code",
   "execution_count": 132,
   "metadata": {},
   "outputs": [
    {
     "name": "stdout",
     "output_type": "stream",
     "text": [
      "4 chemical\n"
     ]
    }
   ],
   "source": [
    "if lesion > \"0.2\":\n",
    "    if d1weather == \"Rain\":\n",
    "        print( \"1chemical\")\n",
    "    else:\n",
    "        if d1temp > \"24\":\n",
    "            if genotype == \"628\":\n",
    "                print(\"3 chemical\")\n",
    "            elif genotype ==\"660\":\n",
    "                print(\"4 chemical\")\n",
    "            elif genotype == \"668\":\n",
    "                print(\"5 chemical\")\n",
    "            elif genotype == \"708\":\n",
    "                print(\"6 chemical\")\n",
    "            else:\n",
    "                print(\"7 non chemical\")\n",
    "        else:\n",
    "            print (\"8 non chemical\")\n",
    "else:\n",
    "    print(\"5non chemical\")"
   ]
  },
  {
   "cell_type": "code",
   "execution_count": null,
   "metadata": {},
   "outputs": [],
   "source": []
  },
  {
   "cell_type": "code",
   "execution_count": 95,
   "metadata": {},
   "outputs": [
    {
     "data": {
      "text/plain": [
       "'Clouds'"
      ]
     },
     "execution_count": 95,
     "metadata": {},
     "output_type": "execute_result"
    }
   ],
   "source": [
    "d2weather"
   ]
  },
  {
   "cell_type": "code",
   "execution_count": 48,
   "metadata": {},
   "outputs": [
    {
     "data": {
      "text/plain": [
       "'Clouds'"
      ]
     },
     "execution_count": 48,
     "metadata": {},
     "output_type": "execute_result"
    }
   ],
   "source": [
    "d1weather\n"
   ]
  },
  {
   "cell_type": "code",
   "execution_count": null,
   "metadata": {},
   "outputs": [],
   "source": []
  },
  {
   "cell_type": "code",
   "execution_count": null,
   "metadata": {},
   "outputs": [],
   "source": []
  }
 ],
 "metadata": {
  "kernelspec": {
   "display_name": "Python 3",
   "language": "python",
   "name": "python3"
  },
  "language_info": {
   "codemirror_mode": {
    "name": "ipython",
    "version": 3
   },
   "file_extension": ".py",
   "mimetype": "text/x-python",
   "name": "python",
   "nbconvert_exporter": "python",
   "pygments_lexer": "ipython3",
   "version": "3.7.4"
  }
 },
 "nbformat": 4,
 "nbformat_minor": 4
}
