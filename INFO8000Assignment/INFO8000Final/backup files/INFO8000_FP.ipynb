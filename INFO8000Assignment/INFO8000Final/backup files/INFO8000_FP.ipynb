{
 "cells": [
  {
   "cell_type": "code",
   "execution_count": 75,
   "metadata": {},
   "outputs": [],
   "source": [
    "from urllib.request import urlretrieve\n",
    "import pandas as pd\n",
    "from sklearn.linear_model import LinearRegression\n",
    "import seaborn as sns\n",
    "import numpy as np\n",
    "import matplotlib.pyplot as plt\n",
    "\n",
    "sns.set()"
   ]
  },
  {
   "cell_type": "code",
   "execution_count": 74,
   "metadata": {},
   "outputs": [
    {
     "name": "stdout",
     "output_type": "stream",
     "text": [
      "    genotype# genotype   method  Rep    DAI9    DAI7    DAI5    DAI3\n",
      "0          15      13M  cutting    1  0.6090  0.4175  0.2340  0.2205\n",
      "1          15      13M  cutting    2  0.6200  0.3750  0.1980  0.1330\n",
      "2          15      13M  cutting    3  0.3525  0.1865  0.1865  0.1865\n",
      "3          15      13M  cutting    4  1.1935  1.1935  0.3410  0.1300\n",
      "4          15      13M  cutting    5  0.4465  0.2490  0.2425  0.2080\n",
      "..        ...      ...      ...  ...     ...     ...     ...     ...\n",
      "74          7      695  cutting    1  0.2950  0.2805  0.1780  0.1670\n",
      "75          7      695  cutting    2  0.3420  0.1910  0.1910  0.1600\n",
      "76          7      695  cutting    3  0.3090  0.2380  0.2380  0.1825\n",
      "77          7      695  cutting    4  0.2535  0.2115  0.1640  0.1640\n",
      "78          7      695  cutting    5  0.1655  0.1655  0.1345  0.1345\n",
      "\n",
      "[79 rows x 8 columns]\n"
     ]
    }
   ],
   "source": [
    "df = pd.read_excel ('/Users/yun-chingtsai/Downloads/cutting.Bioassay_INFO8000.xlsx')\n",
    "print(df)"
   ]
  },
  {
   "cell_type": "code",
   "execution_count": 92,
   "metadata": {},
   "outputs": [
    {
     "name": "stdout",
     "output_type": "stream",
     "text": [
      "   genotype     DAI53     DAI75     DAI97\n",
      "0       628  0.013900  0.113300  0.164700\n",
      "1       630  0.008214  0.133714  0.104071\n",
      "2       660  0.075500  0.142400  0.176800\n",
      "3       668  0.051000  0.125083  0.199083\n",
      "4       683  0.021750  0.066250  0.121417\n",
      "5       694  0.019583  0.087417  0.144917\n",
      "6       695  0.019500  0.036200  0.055700\n",
      "7       696  0.032500  0.063250  0.084125\n",
      "8       704  0.042500  0.114333  0.183833\n",
      "9       708  0.011700  0.095700  0.192700\n",
      "10      730  0.034100  0.148300  0.188900\n",
      "11      736  0.018300  0.064800  0.141100\n",
      "12      12Y  0.009000  0.111250  0.085625\n",
      "13      13M  0.064800  0.243900  0.160000\n",
      "14       3L  0.055400  0.211400  0.226200\n"
     ]
    }
   ],
   "source": [
    "df['DAI53']=df['DAI5']-df['DAI3']\n",
    "df['DAI75']=df['DAI7']-df['DAI5']\n",
    "df['DAI97']=df['DAI9']-df['DAI7']\n",
    "\n",
    "df53=df.groupby('genotype')['DAI53'].mean()\n",
    "\n",
    "df75=pd.DataFrame()\n",
    "df75=df.groupby('genotype')['DAI75'].mean()\n",
    "\n",
    "df97=pd.DataFrame()\n",
    "df97=df.groupby('genotype')['DAI97'].mean()\n",
    "\n",
    "dfmean=df53.to_frame().join(df75.to_frame()).join(df97.to_frame())\n",
    "dfmean.reset_index(inplace = True)\n",
    "print(dfmean)"
   ]
  },
  {
   "cell_type": "code",
   "execution_count": 104,
   "metadata": {},
   "outputs": [
    {
     "name": "stdout",
     "output_type": "stream",
     "text": [
      "   genotype      DAI3      DAI5      DAI7      DAI9\n",
      "0       628  0.133500  0.147400  0.260700  0.425400\n",
      "1       630  0.139786  0.148000  0.281714  0.385786\n",
      "2       660  0.210800  0.286300  0.428700  0.605500\n",
      "3       668  0.173333  0.224333  0.349417  0.548500\n",
      "4       683  0.136917  0.158667  0.224917  0.346333\n",
      "5       694  0.170167  0.189750  0.277167  0.422083\n",
      "6       695  0.161600  0.181100  0.217300  0.273000\n",
      "7       696  0.160375  0.192875  0.256125  0.340250\n",
      "8       704  0.164000  0.206500  0.320833  0.504667\n",
      "9       708  0.112300  0.124000  0.219700  0.412400\n",
      "10      730  0.176900  0.211000  0.359300  0.548200\n",
      "11      736  0.130400  0.148700  0.213500  0.354600\n",
      "12      12Y  0.209375  0.218375  0.329625  0.415250\n",
      "13      13M  0.175600  0.240400  0.484300  0.644300\n",
      "14       3L  0.195700  0.251100  0.462500  0.688700\n"
     ]
    },
    {
     "data": {
      "text/plain": [
       "<matplotlib.axes._subplots.AxesSubplot at 0x1a2808dcd0>"
      ]
     },
     "execution_count": 104,
     "metadata": {},
     "output_type": "execute_result"
    },
    {
     "data": {
      "image/png": "[encoded data removed]",
      "text/plain": [
       "<Figure size 432x288 with 1 Axes>"
      ]
     },
     "metadata": {},
     "output_type": "display_data"
    }
   ],
   "source": [
    "df3=df.groupby('genotype')['DAI3'].mean()\n",
    "df5=df.groupby('genotype')['DAI5'].mean()\n",
    "df7=df.groupby('genotype')['DAI7'].mean()\n",
    "df9=df.groupby('genotype')['DAI9'].mean()\n",
    "dfp=df3.to_frame().join(df5.to_frame()).join(df7.to_frame()).join(df9.to_frame())\n",
    "dfp.reset_index(inplace = True)\n",
    "\n",
    "\n",
    "#dfp.loc['']\n",
    "#.plot.bar(rot=0)\n",
    "#print(dfpi)\n",
    "dfp.plot.bar(rot=0)\n"
   ]
  }
 ],
 "metadata": {
  "kernelspec": {
   "display_name": "Python 3",
   "language": "python",
   "name": "python3"
  },
  "language_info": {
   "codemirror_mode": {
    "name": "ipython",
    "version": 3
   },
   "file_extension": ".py",
   "mimetype": "text/x-python",
   "name": "python",
   "nbconvert_exporter": "python",
   "pygments_lexer": "ipython3",
   "version": "3.7.4"
  }
 },
 "nbformat": 4,
 "nbformat_minor": 4
}
